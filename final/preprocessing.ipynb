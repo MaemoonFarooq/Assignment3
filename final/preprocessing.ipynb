{
 "cells": [
  {
   "cell_type": "markdown",
   "source": [
    "Pre-Processing on the sample data "
   ],
   "metadata": {}
  },
  {
   "cell_type": "code",
   "execution_count": null,
   "source": [
    "#Libraries used\n",
    "import os\n",
    "import json"
   ],
   "outputs": [],
   "metadata": {}
  },
  {
   "cell_type": "markdown",
   "source": [
    "The code below used to take some portion of the data for extracting the important features required for the algorithm"
   ],
   "metadata": {}
  },
  {
   "cell_type": "code",
   "execution_count": null,
   "source": [
    "data=[]\n",
    "\n",
    "with open('Sampled_Amazon_Meta.json', 'r') as f:\n",
    "    count = 0\n",
    "    for line in f:\n",
    "        try:\n",
    "            data.append(json.loads(line))\n",
    "            count += 1\n",
    "            if count == 500:\n",
    "                break                \n",
    "        except json.JSONDecodeError:\n",
    "            continue\n"
   ],
   "outputs": [],
   "metadata": {}
  },
  {
   "cell_type": "markdown",
   "source": [
    "After confirming the required features applying the pre processing on the whole sample dataset and creating a new filterd json file"
   ],
   "metadata": {}
  },
  {
   "cell_type": "code",
   "execution_count": 3,
   "source": [
    "output_file = 'filtered_data.json'\n",
    "\n",
    "with open('Sampled_Amazon_Meta.json', 'r') as f_read, open(output_file, 'w') as f_write:\n",
    "    for line in f_read:\n",
    "        try:\n",
    "            obj = json.loads(line)\n",
    "            \n",
    "            filtered_obj = {\n",
    "                'title': obj.get('title'),\n",
    "                'asin': obj.get('asin'),\n",
    "                'also_view': obj.get('also_view', []),\n",
    "                'also_buy': obj.get('also_buy', []),\n",
    "            }\n",
    "            \n",
    "            json.dump(filtered_obj, f_write)\n",
    "            f_write.write('\\n')\n",
    "            \n",
    "        except json.JSONDecodeError:\n",
    "            continue\n",
    "\n",
    "print(f\"Filtered data written to {output_file}\")"
   ],
   "outputs": [
    {
     "output_type": "stream",
     "name": "stdout",
     "text": [
      "Filtered data written to filtered_data.json\n"
     ]
    }
   ],
   "metadata": {}
  }
 ],
 "metadata": {
  "orig_nbformat": 4,
  "language_info": {
   "name": "python",
   "version": "3.8.10",
   "mimetype": "text/x-python",
   "codemirror_mode": {
    "name": "ipython",
    "version": 3
   },
   "pygments_lexer": "ipython3",
   "nbconvert_exporter": "python",
   "file_extension": ".py"
  },
  "kernelspec": {
   "name": "python3",
   "display_name": "Python 3.8.10 64-bit"
  },
  "interpreter": {
   "hash": "916dbcbb3f70747c44a77c7bcd40155683ae19c65e1c03b4aa3499c5328201f1"
  }
 },
 "nbformat": 4,
 "nbformat_minor": 2
}